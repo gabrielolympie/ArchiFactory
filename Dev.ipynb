{
 "cells": [
  {
   "cell_type": "code",
   "execution_count": 1,
   "id": "b58069bf-614a-4821-b218-612e87d67b15",
   "metadata": {},
   "outputs": [
    {
     "name": "stdout",
     "output_type": "stream",
     "text": [
      "Using device: cuda\n",
      "Using dtype: torch.bfloat16\n"
     ]
    }
   ],
   "source": [
    "## Auto reload\n",
    "%load_ext autoreload\n",
    "%autoreload 2\n",
    "\n",
    "from datasets import load_dataset\n",
    "from tqdm.auto import tqdm\n",
    "import numpy as np\n",
    "import thunder\n",
    "import pickle\n",
    "import torch\n",
    "import os\n",
    "        \n",
    "torch.set_float32_matmul_precision('medium')\n",
    "\n",
    "device = 'cuda' if torch.cuda.is_available() else 'cpu'\n",
    "print(f\"Using device: {device}\")\n",
    "dtype = torch.bfloat16 if torch.cuda.is_available() and torch.cuda.is_bf16_supported() else torch.float32\n",
    "print(f\"Using dtype: {dtype}\")"
   ]
  },
  {
   "cell_type": "code",
   "execution_count": 10,
   "id": "4451f660-acf5-4702-9953-46722e001ca3",
   "metadata": {},
   "outputs": [
    {
     "name": "stdout",
     "output_type": "stream",
     "text": [
      "Total number of parameters: 42,777,344\n"
     ]
    }
   ],
   "source": [
    "from private.hyper_modules import RecurrentHyperLayer #, ParallelScanRecurrentLayer\n",
    "\n",
    "layer = RecurrentHyperLayer(\n",
    "    hidden_size=512,\n",
    "    hyper_features=16,\n",
    "    intermediate_size=2048,\n",
    "    dora_rank=8,\n",
    "    ema_steps = 32,\n",
    ").to(device=device, dtype=dtype)\n",
    "\n",
    "layer=torch.compile(layer)\n",
    "\n",
    "total_params = sum(p.numel() for p in layer.parameters()) * 8\n",
    "print(f\"Total number of parameters: {total_params:,}\")"
   ]
  },
  {
   "cell_type": "code",
   "execution_count": 11,
   "id": "56345470-8472-4d49-9c66-fce17a75780d",
   "metadata": {},
   "outputs": [],
   "source": [
    "x = torch.rand((64,256,512), device=device, dtype=torch.bfloat16)"
   ]
  },
  {
   "cell_type": "code",
   "execution_count": 19,
   "id": "d1f2df11-1db1-4b5d-b9ef-597aac2d8ee6",
   "metadata": {
    "scrolled": true
   },
   "outputs": [],
   "source": [
    "y=layer(x)"
   ]
  },
  {
   "cell_type": "code",
   "execution_count": 13,
   "id": "727f5c9c-10b4-4bd9-97ce-9654d5e0bbc8",
   "metadata": {},
   "outputs": [
    {
     "data": {
      "text/plain": [
       "torch.Size([64, 256, 512])"
      ]
     },
     "execution_count": 13,
     "metadata": {},
     "output_type": "execute_result"
    }
   ],
   "source": [
    "y.shape"
   ]
  },
  {
   "cell_type": "code",
   "execution_count": null,
   "id": "1563606a-8516-40a1-b492-f9ba6b9e3894",
   "metadata": {},
   "outputs": [],
   "source": []
  }
 ],
 "metadata": {
  "kernelspec": {
   "display_name": "Python 3 (ipykernel)",
   "language": "python",
   "name": "python3"
  },
  "language_info": {
   "codemirror_mode": {
    "name": "ipython",
    "version": 3
   },
   "file_extension": ".py",
   "mimetype": "text/x-python",
   "name": "python",
   "nbconvert_exporter": "python",
   "pygments_lexer": "ipython3",
   "version": "3.11.5"
  }
 },
 "nbformat": 4,
 "nbformat_minor": 5
}
